{
 "cells": [
  {
   "cell_type": "raw",
   "metadata": {},
   "source": [
    "according to Mulders 2015 to calculate the planet occurrence rate as a function of stellar velocity dispersions, planet radius and orbital periods.\n",
    "\n",
    "taking into accound the biases in the Kepler data and data reduction pipline\n",
    "\n",
    "list of the functions we used in the following. "
   ]
  },
  {
   "cell_type": "code",
   "execution_count": 1,
   "metadata": {},
   "outputs": [],
   "source": [
    "import numpy as np \n",
    "import astropy.constants as c\n",
    "import os\n",
    "import csv\n",
    "import matplotlib.pyplot as plt\n",
    "import pandas as pd"
   ]
  },
  {
   "cell_type": "code",
   "execution_count": 2,
   "metadata": {},
   "outputs": [],
   "source": [
    "#list all the constants used\n",
    "G=c.G.value\n",
    "M_sun=c.M_sun.value\n",
    "M_earth=c.M_earth.value\n",
    "R_sun=c.R_sun.value\n",
    "R_earth=c.R_earth.value\n",
    "hour=3600 #s\n",
    "day=3600*24\n",
    "e=0.1\n",
    "t_LC=1765.5 #s"
   ]
  },
  {
   "cell_type": "raw",
   "metadata": {},
   "source": [
    "1. transit depth\n",
    "\n",
    "delta = (Rp / Rs)^2"
   ]
  },
  {
   "cell_type": "code",
   "execution_count": 3,
   "metadata": {},
   "outputs": [],
   "source": [
    "def delta(Rp, Rs):\n",
    "    delta = (Rp*R_earth) / (Rs*R_sun)**2*1e6\n",
    "    return delta"
   ]
  },
  {
   "cell_type": "raw",
   "metadata": {},
   "source": [
    "2. S/N \n",
    "\n",
    "S/N = delta * n**0.5 / (sigma_s(t_dur))"
   ]
  },
  {
   "cell_type": "code",
   "execution_count": 4,
   "metadata": {},
   "outputs": [],
   "source": [
    "def SNR(delta,n,sigma_s):\n",
    "    SNR=delta*n**0.5/sigma_s\n",
    "    return SNR"
   ]
  },
  {
   "cell_type": "raw",
   "metadata": {},
   "source": [
    "3. sigma_s\n",
    "\n",
    "sigma_s(t)= sigma_LC *( t/ t_LC)**cdppindex"
   ]
  },
  {
   "cell_type": "code",
   "execution_count": 5,
   "metadata": {},
   "outputs": [],
   "source": [
    "def sigma_s(t, sigma_LC, cdppindex):\n",
    "    t_LC=1765.5 \n",
    "\n",
    "    return sigma_LC*(t/t_LC)**cdppindex"
   ]
  },
  {
   "cell_type": "raw",
   "metadata": {},
   "source": [
    "4. t_dur \n",
    "\n",
    "t_dur = P*Rs*(1-e**2)/(np.pi*a)"
   ]
  },
  {
   "cell_type": "code",
   "execution_count": 6,
   "metadata": {},
   "outputs": [],
   "source": [
    "def t_dur(P,Rs,e,a): #hour\n",
    "    t_dur = P*day*Rs*R_sun*(1-e**2)/(np.pi*a)/hour\n",
    "    return t_dur"
   ]
  },
  {
   "cell_type": "raw",
   "metadata": {},
   "source": [
    "5. semi-major-axis\n",
    "\n",
    "a= ((G*Ms*p**2)/(4*pi**2))**(1/3)"
   ]
  },
  {
   "cell_type": "code",
   "execution_count": 7,
   "metadata": {},
   "outputs": [],
   "source": [
    "def a(Ms,P):\n",
    "    a=((G*Ms*M_sun*(P*day)**2)/(4*np.pi**2))**(1/3)\n",
    "    return a "
   ]
  },
  {
   "cell_type": "raw",
   "metadata": {},
   "source": [
    "6. the number of transits n \n",
    "\n",
    "n=t_obs/P"
   ]
  },
  {
   "cell_type": "code",
   "execution_count": 8,
   "metadata": {},
   "outputs": [],
   "source": [
    "def n(t_obs,P): # the unite of t_obs and P is day\n",
    "    n=t_obs/P\n",
    "    return n"
   ]
  },
  {
   "cell_type": "raw",
   "metadata": {},
   "source": [
    "7. Since a potential planetary candidate require three transits to be detected, the detection efficiency fn increases from zero to one between 2 and 3 potential transits. \n",
    "\n",
    "tobs <= 2P : fn = 0\n",
    "2P < tobs < 3P : fn = (tobs/P − 2)\n",
    "tobs <= 3P : fn = 1"
   ]
  },
  {
   "cell_type": "code",
   "execution_count": 9,
   "metadata": {},
   "outputs": [],
   "source": [
    "def f_n(t_obs,P):\n",
    "    if t_obs <=2*P:\n",
    "        return 0\n",
    "    if t_obs> 2*P and t_obs< 3*P:\n",
    "        return (t_obs/P-2)\n",
    "    if t_obs>=3*P:\n",
    "        return 1"
   ]
  },
  {
   "cell_type": "raw",
   "metadata": {},
   "source": [
    "8. f_eff \n",
    "\n",
    "The Kepler pipeline considers transits with an S/N of at least 7.1 a detection. However, the vetting procedure to rule out false positive also removes some bona fide transits close to the detection limit, leading to a modified detection efficiency f_eff. \n",
    "\n",
    "S/N <= 6 : feff = 0\n",
    "6 < S/N <= 12 : feff = (S/N − 6)/6\n",
    "S/N > 12 : feff = 1"
   ]
  },
  {
   "cell_type": "code",
   "execution_count": 10,
   "metadata": {},
   "outputs": [],
   "source": [
    "def f_eff(SNR):\n",
    "    if SNR <=6:\n",
    "        return 0\n",
    "    if SNR >6 and SNR<=12:\n",
    "        return (SNR-6)/6\n",
    "    if SNR>12:\n",
    "        return 1"
   ]
  },
  {
   "cell_type": "raw",
   "metadata": {},
   "source": [
    "9 transit probability\n",
    "\n",
    "f_geo = (Rp+Rs)/(a*(1-e**2))"
   ]
  },
  {
   "cell_type": "code",
   "execution_count": 11,
   "metadata": {},
   "outputs": [],
   "source": [
    "def f_geo(Rp,Rs,a,e):\n",
    "    f_geo = (Rp*R_earth+Rs*R_sun)/(a*(1-e**2))\n",
    "    return f_geo"
   ]
  },
  {
   "cell_type": "raw",
   "metadata": {},
   "source": [
    "load the raw data and calculate all above"
   ]
  },
  {
   "cell_type": "code",
   "execution_count": 12,
   "metadata": {},
   "outputs": [],
   "source": [
    "#read dispersions in the csv file\n",
    "dispersions=pd.read_csv('ms_100pc_t_interval_2d.csv',sep=',')\n",
    "#print(dispersions)\n",
    "\n",
    "#download data with cdpp 3 6 9 cross match with the dispersions data\n",
    "#kepler q17\n",
    "\n",
    "#rewrite the data\n",
    "kepler_q17=pd.read_csv('kepler_steller_17.csv',sep='|')\n",
    "os.system('mkdir data')\n",
    "with open('data/kepler_stellar_q17.csv','w') as f:\n",
    "    s=['kepid',\n",
    "       'ra',\n",
    "       'dec',\n",
    "       'cdpp3',\n",
    "       'cdpp6',\n",
    "       'cdpp12',]\n",
    "    writer=csv.DictWriter(f,fieldnames=s)\n",
    "    writer.writeheader()\n",
    "    for i in range(0,len(kepler_q17)):\n",
    "        #select the data with cdpp\n",
    "        if kepler_q17['rrmscdpp03p0'][i]==kepler_q17['rrmscdpp03p0'][i] and kepler_q17['rrmscdpp06p0'][i]==kepler_q17['rrmscdpp06p0'][i] and kepler_q17['rrmscdpp12p0'][i]==kepler_q17['rrmscdpp12p0'][i]:\n",
    "            writer.writerow({'kepid':kepler_q17['kepid'][i],\n",
    "                            'ra':kepler_q17['degree_ra'][i],\n",
    "                            'dec':kepler_q17['degree_dec'][i],\n",
    "                            'cdpp3':kepler_q17['rrmscdpp03p0'][i],\n",
    "                            'cdpp6':kepler_q17['rrmscdpp06p0'][i],\n",
    "                            'cdpp12':kepler_q17['rrmscdpp12p0'][i],})\n",
    "            "
   ]
  },
  {
   "cell_type": "code",
   "execution_count": 10,
   "metadata": {},
   "outputs": [
    {
     "name": "stdout",
     "output_type": "stream",
     "text": [
      "113942 113945\n"
     ]
    }
   ],
   "source": [
    "#import pandas as pd\n",
    "#data = pd.read_csv('data/kepler_stellar_q17.csv',sep=',')\n",
    "#print(data)\n",
    "#data = pd.read_csv('data/kepler_stellar_q17_add_dispersions.csv',sep=',')\n",
    "#count=0\n",
    "#for i in range(0,len(data)):\n",
    "#    if data['kepid'][i]==data['kepid.1'][i]:\n",
    "#        count+=1\n",
    "\n",
    "#print(count,len(data))"
   ]
  },
  {
   "cell_type": "code",
   "execution_count": 14,
   "metadata": {},
   "outputs": [],
   "source": [
    "with open('data/kepler_stellar_q17_add_dispersions_reduction.csv','w') as f:\n",
    "    s=[\"kepid\",\n",
    "        \"ra\",\n",
    "        \"dec\",\n",
    "        \"cdpp3\",\n",
    "        \"cdpp6\",\n",
    "        \"cdpp12\",\n",
    "        \"std_vra\",\n",
    "        \"std_vdec\",\n",
    "        \"mean_vra\",\n",
    "        \"mean_vdec\",\n",
    "        \"sigma_vra\",\n",
    "        \"sigma_vdec\",\n",
    "        \"kepmag\",\n",
    "        \"teff\",\n",
    "        \"logg\",\n",
    "        \"radius\",\n",
    "        \"feh\",\n",
    "        \"mass\",\n",
    "        \"dens\",\n",
    "        \"dist\",\n",
    "        \"av\",\n",
    "        \"jmag\",\n",
    "        \"hmag\",\n",
    "        \"kmag\",\n",
    "        \"ra_gaia\",\n",
    "        \"dec_gaia\",\n",
    "        \"parallax\",\n",
    "        \"parallax_error\",\n",
    "        \"pmra\",\n",
    "        \"pmra_error\",\n",
    "        \"pmdec\",\n",
    "        \"pmdec_error\",\n",
    "        \"phot_g_mean_mag\",\n",
    "        \"teff_b2018\",\n",
    "        \"teffe_b2018\",\n",
    "        \"rad_b2018\",\n",
    "        \"radep_b2018\",\n",
    "        \"radem_b2018\",\n",
    "      ]\n",
    "    writer=csv.DictWriter(f,fieldnames=s)\n",
    "    writer.writeheader()\n",
    "    for i in range(0,len(data)):\n",
    "        if data['kepid'][i]==data['kepid.1'][i]:\n",
    "            writer.writerow({\"kepid\":data['kepid'][i],\n",
    "                            \"ra\":data['ra'][i],\n",
    "                            \"dec\":data['dec'][i],\n",
    "                            \"cdpp3\":data['cdpp3'][i],\n",
    "                            \"cdpp6\":data['cdpp6'][i],\n",
    "                            \"cdpp12\":data['cdpp12'][i],\n",
    "                            \"std_vra\":data['std_vra'][i],\n",
    "                            \"std_vdec\":data['std_vdec'][i],\n",
    "                            \"mean_vra\":data['mean_vra'][i],\n",
    "                            \"mean_vdec\":data['mean_vdec'][i],\n",
    "                            \"sigma_vra\":data['sigma_vra'][i],\n",
    "                            \"sigma_vdec\":data['sigma_vdec'][i],\n",
    "                            \"kepmag\":data['kepmag'][i],\n",
    "                            \"teff\":data['teff'][i],\n",
    "                            \"logg\":data['logg'][i],\n",
    "                            \"feh\":data['feh'][i],\n",
    "                            \"radius\":data['radius'][i],\n",
    "                            \"mass\":data['mass'][i],\n",
    "                            \"dens\":data['dens'][i],\n",
    "                            \"dist\":data['dist'][i],\n",
    "                            \"av\":data['av'][i],\n",
    "                            \"jmag\":data['jmag'][i],\n",
    "                            \"hmag\":data['hmag'][i],\n",
    "                            \"kmag\":data['kmag'][i],\n",
    "                            \"ra_gaia\":data['ra_gaia'][i],\n",
    "                            \"dec_gaia\":data['dec_gaia'][i],\n",
    "                            \"parallax\":data['parallax'][i],\n",
    "                            \"parallax_error\":data['parallax_error'][i],\n",
    "                            \"pmra\":data['pmra'][i],\n",
    "                            \"pmra_error\":data['pmra_error'][i],\n",
    "                            \"pmdec\":data['pmdec'][i],\n",
    "                            \"pmdec_error\":data['pmdec_error'][i],\n",
    "                            \"phot_g_mean_mag\":data['phot_g_mean_mag'][i],\n",
    "                            \"teff_b2018\":data['teff_b2018'][i],\n",
    "                            \"teffe_b2018\":data['teffe_b2018'][i],\n",
    "                            \"rad_b2018\":data['rad_b2018'][i],\n",
    "                            \"radep_b2018\":data['radep_b2018'][i],\n",
    "                            \"radem_b2018\":data['radem_b2018'][i],\n",
    "                            })\n",
    "            \n",
    "    \n"
   ]
  },
  {
   "cell_type": "code",
   "execution_count": 13,
   "metadata": {},
   "outputs": [
    {
     "name": "stdout",
     "output_type": "stream",
     "text": [
      "4744 4744\n"
     ]
    }
   ],
   "source": [
    "#import pandas as pd\n",
    "#data = pd.read_csv('data/kepler_stellar_q17.csv',sep=',')\n",
    "#print(data)\n",
    "count=0\n",
    "data = pd.read_csv('data/kepler_koi_q17_add_dispersions_reduction.csv',sep=',')\n",
    "for i in range(0,len(data)):\n",
    "    if data['kepid'][i]==data['kepid.1'][i]:\n",
    "        count+=1\n",
    "print(count,len(data))"
   ]
  },
  {
   "cell_type": "code",
   "execution_count": 14,
   "metadata": {},
   "outputs": [
    {
     "name": "stdout",
     "output_type": "stream",
     "text": [
      "61780662894.614716 6.928523894658733 2.135\n"
     ]
    },
    {
     "data": {
      "image/png": "[encoded data removed]",
      "text/plain": [
       "<Figure size 432x288 with 1 Axes>"
      ]
     },
     "metadata": {
      "needs_background": "light"
     },
     "output_type": "display_data"
    }
   ],
   "source": [
    "# calculate t_dur compared with the tabulate value\n",
    "\n",
    "data = pd.read_csv('data/kepler_koi_q17_add_dispersions_reduction.csv',sep=',')\n",
    "a_calculate=[]\n",
    "tdur_calculate=[]\n",
    "for i in range(0,len(data)):\n",
    "    a_temp=a(data['mass'][i],data['koi_period'][i])\n",
    "    tdur_temp=t_dur(data['koi_period'][i],data['rad_b2018'][i],e,a_temp)\n",
    "    a_calculate.append(a_temp)\n",
    "    tdur_calculate.append(tdur_temp)\n",
    "\n",
    "print(a_calculate[0],tdur_calculate[0],data['koi_duration'][0])\n",
    "tdur_ratio=[]\n",
    "for i in range(0,len(data)):\n",
    "    tdur_ratio.append(tdur_calculate[i]/data['koi_duration'][i])\n",
    "\n",
    "fig=plt.figure()\n",
    "bins=np.logspace(-1,1,30,base=10)\n",
    "plt.hist(tdur_ratio,bins=bins)\n",
    "plt.xlabel('Transit duration (Calculated/Tabulated)')\n",
    "plt.ylabel('Number of KOIs')\n",
    "plt.xlim(0.1,10)\n",
    "plt.ylim(0,900)\n",
    "y=np.linspace(0,900,1000)\n",
    "x=np.linspace(np.median(tdur_ratio),np.median(tdur_ratio),1000)\n",
    "plt.xscale('log')\n",
    "os.system('mkdir result')\n",
    "plt.plot(x,y,'r--')\n",
    "plt.savefig('result/tdur_ratio.eps')\n",
    "plt.show()"
   ]
  },
  {
   "cell_type": "code",
   "execution_count": 1,
   "metadata": {},
   "outputs": [
    {
     "name": "stdout",
     "output_type": "stream",
     "text": [
      "1415.7421180555555 1530\n"
     ]
    },
    {
     "name": "stderr",
     "output_type": "stream",
     "text": [
      "WARNING: WrongDBMModuleWarning: Existing astropy cache is in an unsupported format, either install the appropriate package or use astropy.utils.data.clear_download_cache() to delete the whole cache; db type is dbm.gnu, but the module is not available [astropy.utils.data]\n"
     ]
    }
   ],
   "source": [
    "from astropy.time import Time\n",
    "from datetime import datetime\n",
    "\n",
    "q1_start=Time(datetime(2009, 5, 2, 0, 54, 56))\n",
    "q1_end=Time(datetime(2009, 5, 11, 17, 51, 31))\n",
    "q1=q1_end-q1_start\n",
    "\n",
    "q2_start=Time(datetime(2009, 5, 13, 0, 15, 50))\n",
    "q2_end=Time(datetime(2009, 6, 15, 11, 32, 58))\n",
    "q2=q2_end-q2_start\n",
    "\n",
    "q3_start=Time(datetime(2009, 6, 20, 0, 25, 10))\n",
    "q3_end=Time(datetime(2009, 9, 16, 23, 9, 29))\n",
    "q3=q3_end-q3_start\n",
    "\n",
    "q4_start=Time(datetime(2009, 9, 18, 17, 19, 59))\n",
    "q4_end=Time(datetime(2009, 12, 16, 23, 55, 6))\n",
    "q4=q4_end-q4_start\n",
    "\n",
    "q5_start=Time(datetime(2009, 12, 19, 21, 3, 56))\n",
    "q5_end=Time(datetime(2010, 3, 19, 16, 53, 32))\n",
    "q5=q5_end-q5_start\n",
    "\n",
    "q6_start=Time(datetime(2010, 3, 20, 23, 47, 16))\n",
    "q6_end=Time(datetime(2010, 6, 23, 15, 50, 27))\n",
    "q6=q6_end-q6_start\n",
    "\n",
    "q7_start=Time(datetime(2010, 6, 24, 22, 44, 9))\n",
    "q7_end=Time(datetime(2010, 9, 22, 19, 3, 10))\n",
    "q7=q7_end-q7_start\n",
    "\n",
    "q8_start=Time(datetime(2010, 9, 23, 16, 8, 24))\n",
    "q8_end=Time(datetime(2010, 12, 22, 1, 10, 42))\n",
    "q8=q8_end-q8_start\n",
    "\n",
    "q9_start=Time(datetime(2011, 1, 6, 20, 45, 9))\n",
    "q9_end=Time(datetime(2011, 3, 14, 20, 18, 16))\n",
    "q9=q9_end-q9_start\n",
    "\n",
    "q10_start=Time(datetime(2011, 3, 21, 0, 24, 25))\n",
    "q10_end=Time(datetime(2011, 6, 26, 10, 10, 30))\n",
    "q10=q10_end-q10_start\n",
    "\n",
    "q11_start=Time(datetime(2011, 6, 27, 8, 14, 33))\n",
    "q11_end=Time(datetime(2011, 9, 28, 18, 22, 51))\n",
    "q11=q11_end-q11_start\n",
    "\n",
    "q12_start=Time(datetime(2011, 9, 29, 16, 56, 20))\n",
    "q12_end=Time(datetime(2012, 1, 4, 19, 50, 26))\n",
    "q12=q12_end-q12_start\n",
    "\n",
    "q13_start=Time(datetime(2012, 1, 5, 21, 49, 55))\n",
    "q13_end=Time(datetime(2012, 3, 28, 12, 32, 44))\n",
    "q13=q13_end-q13_start\n",
    "\n",
    "q14_start=Time(datetime(2012, 3, 29, 5, 42, 32))\n",
    "q14_end=Time(datetime(2012, 6, 27, 13, 18, 21))\n",
    "q14=q14_end-q14_start\n",
    "\n",
    "q15_start=Time(datetime(2012, 6, 28, 15, 17, 48))\n",
    "q15_end=Time(datetime(2012, 10, 3, 19, 40, 11))\n",
    "q15=q15_end-q15_start\n",
    "\n",
    "q16_start=Time(datetime(2012, 10, 5, 23, 39, 7))\n",
    "q16_end=Time(datetime(2013, 1, 11, 15, 18, 16))\n",
    "q16=q16_end-q16_start\n",
    "\n",
    "q17_start=Time(datetime(2013, 1, 12, 14, 21, 11))\n",
    "q17_end=Time(datetime(2013, 4, 8, 11, 2, 28))\n",
    "q17=q17_end-q17_start\n",
    "\n",
    "q18_start=Time(datetime(2013, 4, 9, 17, 26, 45))\n",
    "q18_end=Time(datetime(2013, 5, 11, 12, 1, 40))\n",
    "q18=q18_end-q18_start\n",
    "\n",
    "t_obs=q2+q3+q4+q5+q6+q7+q8+q9+q10+q11+q12+q13+q14+q15+q16+q17+q18\n",
    "\n",
    "print(t_obs,90*17)"
   ]
  },
  {
   "cell_type": "code",
   "execution_count": 15,
   "metadata": {},
   "outputs": [],
   "source": [
    "# calculate the SNR\n",
    "from scipy.optimize import curve_fit\n",
    "data = pd.read_csv('data/kepler_koi_q17_add_dispersions_reduction_reduction.csv',sep=',')\n",
    "#t_obs=90*17 #day\n",
    "SNR_calculate=[]\n",
    "for i in range(0,len(data)):\n",
    "    # the transit number n\n",
    "    n_temp=n(t_obs,data['koi_period'][i])\n",
    "    x=[3,6,12]\n",
    "    y=[data['cdpp3'][i],data['cdpp6'][i],data['cdpp12'][i]]\n",
    "    popt, pcov = curve_fit(sigma_s, x, y)\n",
    "    sigma_LC=popt[0]\n",
    "    cdppindex=popt[1]\n",
    "    sigma_s_temp=sigma_s(data['koi_duration'][i],sigma_LC,cdppindex)\n",
    "    SNR_temp=SNR(data['koi_depth'][i],n_temp,sigma_s_temp)\n",
    "    if SNR_temp==SNR_temp:\n",
    "        SNR_calculate.append(SNR_temp)\n",
    "    else:\n",
    "        SNR_calculate.append(data['koi_duration'][i])\n",
    "    \n",
    "    \n",
    "    \n",
    "#print(SNR_calculate)\n",
    "    "
   ]
  },
  {
   "cell_type": "code",
   "execution_count": 16,
   "metadata": {
    "scrolled": false
   },
   "outputs": [
    {
     "ename": "NameError",
     "evalue": "name 'SNR_calculate' is not defined",
     "output_type": "error",
     "traceback": [
      "\u001b[0;31m---------------------------------------------------------------------------\u001b[0m",
      "\u001b[0;31mNameError\u001b[0m                                 Traceback (most recent call last)",
      "\u001b[0;32m<ipython-input-16-c2dca09738f1>\u001b[0m in \u001b[0;36m<module>\u001b[0;34m\u001b[0m\n\u001b[1;32m      2\u001b[0m \u001b[0;34m\u001b[0m\u001b[0m\n\u001b[1;32m      3\u001b[0m \u001b[0mfig\u001b[0m\u001b[0;34m=\u001b[0m\u001b[0mplt\u001b[0m\u001b[0;34m.\u001b[0m\u001b[0mfigure\u001b[0m\u001b[0;34m(\u001b[0m\u001b[0;34m)\u001b[0m\u001b[0;34m\u001b[0m\u001b[0;34m\u001b[0m\u001b[0m\n\u001b[0;32m----> 4\u001b[0;31m \u001b[0mplt\u001b[0m\u001b[0;34m.\u001b[0m\u001b[0mloglog\u001b[0m\u001b[0;34m(\u001b[0m\u001b[0mdata\u001b[0m\u001b[0;34m[\u001b[0m\u001b[0;34m'koi_model_snr'\u001b[0m\u001b[0;34m]\u001b[0m\u001b[0;34m,\u001b[0m\u001b[0mSNR_calculate\u001b[0m\u001b[0;34m/\u001b[0m\u001b[0;36m1.24\u001b[0m\u001b[0;34m,\u001b[0m\u001b[0;34m'.'\u001b[0m\u001b[0;34m)\u001b[0m\u001b[0;34m\u001b[0m\u001b[0;34m\u001b[0m\u001b[0m\n\u001b[0m\u001b[1;32m      5\u001b[0m \u001b[0mplt\u001b[0m\u001b[0;34m.\u001b[0m\u001b[0mxlim\u001b[0m\u001b[0;34m(\u001b[0m\u001b[0;36m1e0\u001b[0m\u001b[0;34m,\u001b[0m\u001b[0;36m1e4\u001b[0m\u001b[0;34m)\u001b[0m\u001b[0;34m\u001b[0m\u001b[0;34m\u001b[0m\u001b[0m\n\u001b[1;32m      6\u001b[0m \u001b[0mplt\u001b[0m\u001b[0;34m.\u001b[0m\u001b[0mylim\u001b[0m\u001b[0;34m(\u001b[0m\u001b[0;36m1e0\u001b[0m\u001b[0;34m,\u001b[0m\u001b[0;36m1e4\u001b[0m\u001b[0;34m)\u001b[0m\u001b[0;34m\u001b[0m\u001b[0;34m\u001b[0m\u001b[0m\n",
      "\u001b[0;31mNameError\u001b[0m: name 'SNR_calculate' is not defined"
     ]
    },
    {
     "data": {
      "text/plain": [
       "<Figure size 432x288 with 0 Axes>"
      ]
     },
     "metadata": {},
     "output_type": "display_data"
    }
   ],
   "source": [
    "# plot the SNR ratio\n",
    "\n",
    "fig=plt.figure()\n",
    "plt.loglog(data['koi_model_snr'],SNR_calculate/1.24,'.')\n",
    "plt.xlim(1e0,1e4)\n",
    "plt.ylim(1e0,1e4)\n",
    "x=np.linspace(1e0,1e4,10000)\n",
    "y=np.linspace(1e0,1e4,10000)\n",
    "plt.plot(x,y,'r-')\n",
    "plt.xlabel('Tabulated SNR (ppm)')\n",
    "plt.ylabel('Calculated SNR (ppm)')\n",
    "plt.savefig('result/SNR_ratio.eps')\n",
    "plt.show()\n",
    "\n",
    "ratio=[]\n",
    "for i in range(0,len(data)):\n",
    "    ratio.append(SNR_calculate[i]/data['koi_model_snr'][i])\n",
    "\n",
    "#print(ratio)\n",
    "print(np.median(ratio))"
   ]
  },
  {
   "cell_type": "code",
   "execution_count": 53,
   "metadata": {},
   "outputs": [],
   "source": [
    "# calculate the planet occurrence rate \n",
    "\n",
    "# first the total sample, not include the dispersion \n",
    "\n",
    "stellar_table=pd.read_csv('data/kepler_stellar_q17_add_dispersions_reduction.csv',sep=',')\n",
    "koi_table=pd.read_csv('data/kepler_koi_q17_add_dispersions_reduction.csv',sep=',')\n",
    "import math\n",
    "def N_s(Rp,P):\n",
    "    N_s_temp=0\n",
    "    for i in range(0,len(stellar_table)):\n",
    "        a_temp=a(stellar_table['mass'][i],P)\n",
    "        tdur_temp=t_dur(P,stellar_table['rad_b2018'][i],e,a_temp)\n",
    "        delta_temp=delta(Rp,stellar_table['rad_b2018'][i])\n",
    "        n_temp=n(t_obs,P)\n",
    "        x=[3,6,12]\n",
    "        y=[stellar_table['cdpp3'][i],stellar_table['cdpp6'][i],stellar_table['cdpp12'][i]]\n",
    "        popt, pcov = curve_fit(sigma_s, x, y)\n",
    "        sigma_LC=popt[0]\n",
    "        cdppindex=popt[1]\n",
    "        sigma_s_temp=sigma_s(tdur_temp,sigma_LC,cdppindex)\n",
    "        SNR_temp=SNR(delta_temp,n_temp,sigma_s_temp)\n",
    "        fn_temp=f_n(t_obs,P)\n",
    "        feff_temp=f_eff(SNR_temp)\n",
    "        N_s_temp+=fn_temp*feff_temp\n",
    "    return round(N_s_temp)\n",
    "\n",
    "def f_occurrence(Rp_low,Rp_high,P_low,P_high): # the log base of Rp and P\n",
    "    count=0\n",
    "    for i in range(0,len(koi_table)):\n",
    "        if koi_table['koi_prad'][i]>Rp_low and koi_table['koi_prad'][i]<=Rp_high and koi_table['koi_period'][i]>P_low and koi_table['koi_period'][i]<=P_high:\n",
    "            count+=1\n",
    "    \n",
    "    if count>0:\n",
    "        f_occurrence_temp=0\n",
    "        for i in range(0,len(koi_table)):\n",
    "            if koi_table['koi_prad'][i]>Rp_low and koi_table['koi_prad'][i]<=Rp_high and koi_table['koi_period'][i]>P_low and koi_table['koi_period'][i]<=P_high:\n",
    "                N_s_temp=N_s(koi_table['koi_prad'][i],koi_table['koi_period'][i])\n",
    "                a_temp=a(koi_table['mass'][i],koi_table['koi_period'][i])\n",
    "                fgeo_temp=f_geo(koi_table['koi_prad'][i],koi_table['rad_b2018'][i],a_temp,e)\n",
    "                f_occurrence_temp+=1./(fgeo_temp*N_s_temp)\n",
    "        N_s=1.0*count/f_occurrence_temp\n",
    "        deviation_N_s=N_s*f_occurrence_temp*(1-f_occurrence_temp)\n",
    "        std=deviation_N_s**0.5\n",
    "        return count,f_occurrence_temp,std\n",
    "    \n",
    "    else:\n",
    "        Rp_center=2**((math.log(Rp_low,2)+math.log(Rp_high,2))/2)\n",
    "        P_center=5**((math.log(P_low,5)+math.log(P_high,5))/2)\n",
    "        N_s_temp=N_s(Rp_center,P_center)\n",
    "        fgeo_temp=0.1\n",
    "        f_occurrence_temp+=1./(fgeo_temp*N_s_temp)\n",
    "        return count,f_occurrence_temp,0\n",
    "            "
   ]
  },
  {
   "cell_type": "code",
   "execution_count": 3,
   "metadata": {},
   "outputs": [
    {
     "name": "stdout",
     "output_type": "stream",
     "text": [
      "Index(['angDist', 'kepid', 'ra', 'dec', 'cdpp3', 'cdpp6', 'cdpp12', 'std_vra',\n",
      "       'std_vdec', 'mean_vra', 'mean_vdec', 'sigma_vra', 'sigma_vdec',\n",
      "       'kepmag', 'teff', 'logg', 'radius', 'feh', 'mass', 'dens', 'dist', 'av',\n",
      "       'jmag', 'hmag', 'kmag', 'ra_gaia', 'dec_gaia', 'parallax',\n",
      "       'parallax_error', 'pmra', 'pmra_error', 'pmdec', 'pmdec_error',\n",
      "       'phot_g_mean_mag', 'teff_b2018', 'teffe_b2018', 'rad_b2018',\n",
      "       'radep_b2018', 'radem_b2018', 'kepid.1', 'kepoi_name', 'kepler_name',\n",
      "       'koi_disposition', 'koi_pdisposition', 'koi_score', 'koi_fpflag_nt',\n",
      "       'koi_fpflag_ss', 'koi_fpflag_co', 'koi_fpflag_ec', 'koi_period',\n",
      "       'koi_period_err1', 'koi_period_err2', 'koi_time0bk', 'koi_time0bk_err1',\n",
      "       'koi_time0bk_err2', 'koi_impact', 'koi_impact_err1', 'koi_impact_err2',\n",
      "       'koi_duration', 'koi_duration_err1', 'koi_duration_err2', 'koi_depth',\n",
      "       'koi_depth_err1', 'koi_depth_err2', 'koi_prad', 'koi_prad_err1',\n",
      "       'koi_prad_err2', 'koi_teq', 'koi_teq_err1', 'koi_teq_err2', 'koi_insol',\n",
      "       'koi_insol_err1', 'koi_insol_err2', 'koi_model_snr', 'koi_tce_plnt_num',\n",
      "       'koi_tce_delivname', 'koi_steff', 'koi_steff_err1', 'koi_steff_err2',\n",
      "       'koi_slogg', 'koi_slogg_err1', 'koi_slogg_err2', 'koi_srad',\n",
      "       'koi_srad_err1', 'koi_srad_err2', 'ra.1', 'dec.1', 'koi_kepmag'],\n",
      "      dtype='object')\n"
     ]
    }
   ],
   "source": [
    "import pandas as pd\n",
    "import csv\n",
    "koi_table=pd.read_csv('data/kepler_koi_q17_add_dispersions_reduction.csv',sep=',')\n",
    "print(koi_table.columns)"
   ]
  },
  {
   "cell_type": "code",
   "execution_count": 41,
   "metadata": {},
   "outputs": [],
   "source": [
    "koi_table=pd.read_csv('data/kepler_koi_q17_add_dispersions_reduction.csv',sep=',')\n",
    "with open('data/kepler_koi_q17_add_dispersions_reduction_reduction.csv','w') as f:\n",
    "    s=[\"kepid\",\n",
    "        \"ra\",\n",
    "        \"dec\",\n",
    "        \"cdpp3\",\n",
    "        \"cdpp6\",\n",
    "        \"cdpp12\",\n",
    "        \"std_vra\",\n",
    "        \"std_vdec\",\n",
    "        \"mean_vra\",\n",
    "        \"mean_vdec\",\n",
    "        \"sigma_vra\",\n",
    "        \"sigma_vdec\",\n",
    "        \"kepmag\",\n",
    "        \"teff\",\n",
    "        \"logg\",\n",
    "        \"radius\",\n",
    "        \"feh\",\n",
    "        \"mass\",\n",
    "        \"dens\",\n",
    "        \"dist\",\n",
    "        \"av\",\n",
    "        \"jmag\",\n",
    "        \"hmag\",\n",
    "        \"kmag\",\n",
    "        \"ra_gaia\",\n",
    "        \"dec_gaia\",\n",
    "        \"parallax\",\n",
    "        \"parallax_error\",\n",
    "        \"pmra\",\n",
    "        \"pmra_error\",\n",
    "        \"pmdec\",\n",
    "        \"pmdec_error\",\n",
    "        \"phot_g_mean_mag\",\n",
    "        \"teff_b2018\",\n",
    "        \"teffe_b2018\",\n",
    "        \"rad_b2018\",\n",
    "        \"radep_b2018\",\n",
    "        \"radem_b2018\",\n",
    "        'koi_period',\n",
    "        'koi_duration',\n",
    "        'koi_depth',\n",
    "        'koi_prad',\n",
    "        'koi_model_snr',\n",
    "      ]\n",
    "    writer=csv.DictWriter(f,fieldnames=s)\n",
    "    writer.writeheader()\n",
    "    for i in range(0,len(koi_table)):\n",
    "        if koi_table['koi_period'][i]==koi_table['koi_period'][i] and koi_table['koi_duration'][i]==koi_table['koi_duration'][i] and koi_table['koi_depth'][i]==koi_table['koi_depth'][i] and koi_table['koi_prad'][i]==koi_table['koi_prad'][i]:\n",
    "            writer.writerow({\"kepid\":koi_table['kepid'][i],\n",
    "                            \"ra\":koi_table['ra'][i],\n",
    "                            \"dec\":koi_table['dec'][i],\n",
    "                            \"cdpp3\":koi_table['cdpp3'][i],\n",
    "                            \"cdpp6\":koi_table['cdpp6'][i],\n",
    "                            \"cdpp12\":koi_table['cdpp12'][i],\n",
    "                            \"std_vra\":koi_table['std_vra'][i],\n",
    "                            \"std_vdec\":koi_table['std_vdec'][i],\n",
    "                            \"mean_vra\":koi_table['mean_vra'][i],\n",
    "                            \"mean_vdec\":koi_table['mean_vdec'][i],\n",
    "                            \"sigma_vra\":koi_table['sigma_vra'][i],\n",
    "                            \"sigma_vdec\":koi_table['sigma_vdec'][i],\n",
    "                            \"kepmag\":koi_table['kepmag'][i],\n",
    "                            \"teff\":koi_table['teff'][i],\n",
    "                            \"logg\":koi_table['logg'][i],\n",
    "                            \"feh\":koi_table['feh'][i],\n",
    "                            \"radius\":koi_table['radius'][i],\n",
    "                            \"mass\":koi_table['mass'][i],\n",
    "                            \"dens\":koi_table['dens'][i],\n",
    "                            \"dist\":koi_table['dist'][i],\n",
    "                            \"av\":koi_table['av'][i],\n",
    "                            \"jmag\":koi_table['jmag'][i],\n",
    "                            \"hmag\":koi_table['hmag'][i],\n",
    "                            \"kmag\":koi_table['kmag'][i],\n",
    "                            \"ra_gaia\":koi_table['ra_gaia'][i],\n",
    "                            \"dec_gaia\":koi_table['dec_gaia'][i],\n",
    "                            \"parallax\":koi_table['parallax'][i],\n",
    "                            \"parallax_error\":koi_table['parallax_error'][i],\n",
    "                            \"pmra\":koi_table['pmra'][i],\n",
    "                            \"pmra_error\":koi_table['pmra_error'][i],\n",
    "                            \"pmdec\":koi_table['pmdec'][i],\n",
    "                            \"pmdec_error\":koi_table['pmdec_error'][i],\n",
    "                            \"phot_g_mean_mag\":koi_table['phot_g_mean_mag'][i],\n",
    "                            \"teff_b2018\":koi_table['teff_b2018'][i],\n",
    "                            \"teffe_b2018\":koi_table['teffe_b2018'][i],\n",
    "                            \"rad_b2018\":koi_table['rad_b2018'][i],\n",
    "                            \"radep_b2018\":koi_table['radep_b2018'][i],\n",
    "                            \"radem_b2018\":koi_table['radem_b2018'][i],\n",
    "                            'koi_period':koi_table['koi_period'][i],\n",
    "                            'koi_duration':koi_table['koi_duration'][i],\n",
    "                            'koi_depth':koi_table['koi_depth'][i],\n",
    "                            'koi_prad':koi_table['koi_prad'][i],\n",
    "                            'koi_model_snr':koi_table['koi_model_snr'][i],\n",
    "                            })\n"
   ]
  },
  {
   "cell_type": "code",
   "execution_count": null,
   "metadata": {},
   "outputs": [],
   "source": []
  },
  {
   "cell_type": "code",
   "execution_count": 1,
   "metadata": {},
   "outputs": [
    {
     "ename": "NameError",
     "evalue": "name 'BSC' is not defined",
     "output_type": "error",
     "traceback": [
      "\u001b[0;31m---------------------------------------------------------------------------\u001b[0m",
      "\u001b[0;31mNameError\u001b[0m                                 Traceback (most recent call last)",
      "\u001b[0;32m<ipython-input-1-098794baebfa>\u001b[0m in \u001b[0;36m<module>\u001b[0;34m\u001b[0m\n\u001b[0;32m----> 1\u001b[0;31m \u001b[0mlen\u001b[0m\u001b[0;34m(\u001b[0m\u001b[0mBSC\u001b[0m\u001b[0;34m)\u001b[0m\u001b[0;34m\u001b[0m\u001b[0;34m\u001b[0m\u001b[0m\n\u001b[0m",
      "\u001b[0;31mNameError\u001b[0m: name 'BSC' is not defined"
     ]
    }
   ],
   "source": []
  },
  {
   "cell_type": "code",
   "execution_count": null,
   "metadata": {},
   "outputs": [],
   "source": []
  }
 ],
 "metadata": {
  "kernelspec": {
   "display_name": "Python 3",
   "language": "python",
   "name": "python3"
  },
  "language_info": {
   "codemirror_mode": {
    "name": "ipython",
    "version": 3
   },
   "file_extension": ".py",
   "mimetype": "text/x-python",
   "name": "python",
   "nbconvert_exporter": "python",
   "pygments_lexer": "ipython3",
   "version": "3.7.1"
  }
 },
 "nbformat": 4,
 "nbformat_minor": 2
}
